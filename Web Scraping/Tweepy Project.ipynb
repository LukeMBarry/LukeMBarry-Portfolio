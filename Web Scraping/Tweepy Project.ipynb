{
 "cells": [
  {
   "cell_type": "markdown",
   "metadata": {},
   "source": [
    "# Tweepy\n",
    "\n",
    "This project plays around with tweepy to gather information from twitter."
   ]
  },
  {
   "cell_type": "markdown",
   "metadata": {},
   "source": [
    "##### Friend Maker\n",
    "The following uses tweepy to follow friends of specified users according to certain parameters."
   ]
  },
  {
   "cell_type": "code",
   "execution_count": 10,
   "metadata": {},
   "outputs": [],
   "source": [
    "import tweepy\n",
    "import webbrowser\n",
    "import time\n",
    "import pandas as pd\n",
    "from datetime import datetime"
   ]
  },
  {
   "cell_type": "code",
   "execution_count": 11,
   "metadata": {},
   "outputs": [],
   "source": [
    "key = \"###################\"\n",
    "secret = \"####################\""
   ]
  },
  {
   "cell_type": "code",
   "execution_count": 41,
   "metadata": {},
   "outputs": [],
   "source": [
    "consumer_key = key\n",
    "consumer_secret = secret\n",
    "callback_uri = 'oob'\n",
    "auth = tweepy.OAuthHandler(consumer_key, consumer_secret, callback_uri)\n",
    "redirect_url = auth.get_authorization_url()\n",
    "print(redirect_url)\n",
    "webbrowser.open(redirect_url)\n",
    "user_pin_input = input(\"What's the pin value? \")\n",
    "\n",
    "# output blocked for privacy.\n",
    "# user would enter the value from the authorization website provided in output"
   ]
  },
  {
   "cell_type": "code",
   "execution_count": 42,
   "metadata": {},
   "outputs": [],
   "source": [
    "auth.get_access_token(user_pin_input)\n",
    "#output blocked"
   ]
  },
  {
   "cell_type": "code",
   "execution_count": 14,
   "metadata": {},
   "outputs": [],
   "source": [
    "api = tweepy.API(auth)"
   ]
  },
  {
   "cell_type": "code",
   "execution_count": 15,
   "metadata": {},
   "outputs": [],
   "source": [
    "me = api.me()"
   ]
  },
  {
   "cell_type": "code",
   "execution_count": 16,
   "metadata": {},
   "outputs": [
    {
     "name": "stdout",
     "output_type": "stream",
     "text": [
      "LukeMarcusBarry\n"
     ]
    }
   ],
   "source": [
    "print(me.screen_name)"
   ]
  },
  {
   "cell_type": "code",
   "execution_count": 20,
   "metadata": {},
   "outputs": [],
   "source": [
    "user = api.get_user(\"mcuban\")"
   ]
  },
  {
   "cell_type": "code",
   "execution_count": 21,
   "metadata": {},
   "outputs": [
    {
     "name": "stdout",
     "output_type": "stream",
     "text": [
      "8063687 1670\n"
     ]
    }
   ],
   "source": [
    "print(user.followers_count, user.friends_count)"
   ]
  },
  {
   "cell_type": "code",
   "execution_count": 22,
   "metadata": {},
   "outputs": [
    {
     "name": "stdout",
     "output_type": "stream",
     "text": [
      "defipulse\n",
      "BanklessHQ\n",
      "flow_blockchain\n",
      "dapperlabs\n",
      "amadougallofall\n",
      "UniswapProtocol\n",
      "TheAmandaGorman\n",
      "dipp\n",
      "unchainedcap\n",
      "Stanford_JBLP\n",
      "HarvardLawBFI\n"
     ]
    }
   ],
   "source": [
    "my_new_friends = []\n",
    "user_friends = user.friends()\n",
    "for friend in user_friends:\n",
    "    if friend.followers_count > 300 and friend.friends_count < 700:\n",
    "        print(friend.screen_name)\n",
    "        my_new_friends.append(friend.screen_name)\n",
    "        relationship_ = api.create_friendship(friend.screen_name)"
   ]
  },
  {
   "cell_type": "code",
   "execution_count": 23,
   "metadata": {},
   "outputs": [
    {
     "name": "stdout",
     "output_type": "stream",
     "text": [
      "['defipulse', 'BanklessHQ', 'flow_blockchain', 'dapperlabs', 'amadougallofall', 'UniswapProtocol', 'TheAmandaGorman', 'dipp', 'unchainedcap', 'Stanford_JBLP', 'HarvardLawBFI']\n"
     ]
    }
   ],
   "source": [
    "to_remove = my_new_friends\n",
    "print(my_new_friends)"
   ]
  },
  {
   "cell_type": "code",
   "execution_count": 24,
   "metadata": {},
   "outputs": [],
   "source": [
    "for username in to_remove:\n",
    "    api.destroy_friendship(username)"
   ]
  },
  {
   "cell_type": "markdown",
   "metadata": {},
   "source": [
    "##### Status updater"
   ]
  },
  {
   "cell_type": "code",
   "execution_count": 25,
   "metadata": {},
   "outputs": [],
   "source": [
    "new_status = api.update_status(\"Hello world. Trying out updating my status using python.\")"
   ]
  },
  {
   "cell_type": "code",
   "execution_count": 40,
   "metadata": {},
   "outputs": [],
   "source": [
    "# new_status.destroy()"
   ]
  },
  {
   "cell_type": "code",
   "execution_count": 27,
   "metadata": {},
   "outputs": [
    {
     "data": {
      "text/plain": [
       "['__class__',\n",
       " '__delattr__',\n",
       " '__dict__',\n",
       " '__dir__',\n",
       " '__doc__',\n",
       " '__eq__',\n",
       " '__format__',\n",
       " '__ge__',\n",
       " '__getattribute__',\n",
       " '__getstate__',\n",
       " '__gt__',\n",
       " '__hash__',\n",
       " '__init__',\n",
       " '__init_subclass__',\n",
       " '__le__',\n",
       " '__lt__',\n",
       " '__module__',\n",
       " '__ne__',\n",
       " '__new__',\n",
       " '__reduce__',\n",
       " '__reduce_ex__',\n",
       " '__repr__',\n",
       " '__setattr__',\n",
       " '__sizeof__',\n",
       " '__str__',\n",
       " '__subclasshook__',\n",
       " '__weakref__',\n",
       " '_api',\n",
       " '_json',\n",
       " 'author',\n",
       " 'contributors',\n",
       " 'coordinates',\n",
       " 'created_at',\n",
       " 'destroy',\n",
       " 'entities',\n",
       " 'favorite',\n",
       " 'favorite_count',\n",
       " 'favorited',\n",
       " 'geo',\n",
       " 'id',\n",
       " 'id_str',\n",
       " 'in_reply_to_screen_name',\n",
       " 'in_reply_to_status_id',\n",
       " 'in_reply_to_status_id_str',\n",
       " 'in_reply_to_user_id',\n",
       " 'in_reply_to_user_id_str',\n",
       " 'is_quote_status',\n",
       " 'lang',\n",
       " 'parse',\n",
       " 'parse_list',\n",
       " 'place',\n",
       " 'retweet',\n",
       " 'retweet_count',\n",
       " 'retweeted',\n",
       " 'retweets',\n",
       " 'source',\n",
       " 'source_url',\n",
       " 'text',\n",
       " 'truncated',\n",
       " 'user']"
      ]
     },
     "execution_count": 27,
     "metadata": {},
     "output_type": "execute_result"
    }
   ],
   "source": [
    "dir(new_status)"
   ]
  },
  {
   "cell_type": "markdown",
   "metadata": {},
   "source": [
    "##### Timeline fetcher\n",
    "The following creates a dataframe out of my own timeline and creates a function that grabs the timeline of any specified user and turns it into a dataframe."
   ]
  },
  {
   "cell_type": "code",
   "execution_count": 30,
   "metadata": {},
   "outputs": [],
   "source": [
    "my_timeline = api.home_timeline()\n",
    "# print(my_timeline)"
   ]
  },
  {
   "cell_type": "code",
   "execution_count": 31,
   "metadata": {},
   "outputs": [
    {
     "name": "stdout",
     "output_type": "stream",
     "text": [
      "lexfridman\n",
      "CaptainNasdaq\n",
      "pcgamer\n",
      "techreview\n",
      "CNNPolitics\n",
      "pcgamer\n",
      "statedeptspox\n",
      "TheBabylonBee\n",
      "politico\n",
      "MyNintendoNews\n",
      "Frost_Giant\n",
      "techreview\n",
      "pcgamer\n",
      "techreview\n",
      "techreview\n",
      "techreview\n",
      "redditinvestors\n",
      "cleantechnica\n",
      "SecBlinken\n"
     ]
    }
   ],
   "source": [
    "columns = set()\n",
    "allowed_types = [str, int]\n",
    "tweets_data = []\n",
    "\n",
    "for status in my_timeline:\n",
    "    print(status.author.screen_name)\n",
    "    #print(status.text)\n",
    "    status_dict = dict(vars(status))\n",
    "    keys = vars(status).keys()\n",
    "    single_tweet_data = {\"user\": status.user.screen_name, \"author\": status.author.screen_name}\n",
    "    for k in keys:\n",
    "        try:\n",
    "            v_type = type(status_dict[k])\n",
    "        except:\n",
    "            v_type = None\n",
    "        if v_type != None:\n",
    "            if v_type in allowed_types:\n",
    "                single_tweet_data[k] = status_dict[k]\n",
    "                columns.add(k)\n",
    "    tweets_data.append(single_tweet_data)\n",
    "    \n",
    "header_columns = list(columns)\n",
    "header_columns.append(\"user\")\n",
    "header_columns.append(\"author\")"
   ]
  },
  {
   "cell_type": "code",
   "execution_count": 32,
   "metadata": {},
   "outputs": [
    {
     "data": {
      "text/html": [
       "<div>\n",
       "<style scoped>\n",
       "    .dataframe tbody tr th:only-of-type {\n",
       "        vertical-align: middle;\n",
       "    }\n",
       "\n",
       "    .dataframe tbody tr th {\n",
       "        vertical-align: top;\n",
       "    }\n",
       "\n",
       "    .dataframe thead th {\n",
       "        text-align: right;\n",
       "    }\n",
       "</style>\n",
       "<table border=\"1\" class=\"dataframe\">\n",
       "  <thead>\n",
       "    <tr style=\"text-align: right;\">\n",
       "      <th></th>\n",
       "      <th>favorite_count</th>\n",
       "      <th>text</th>\n",
       "      <th>retweet_count</th>\n",
       "      <th>quoted_status_id</th>\n",
       "      <th>source_url</th>\n",
       "      <th>lang</th>\n",
       "      <th>id</th>\n",
       "      <th>source</th>\n",
       "      <th>id_str</th>\n",
       "      <th>quoted_status_id_str</th>\n",
       "      <th>user</th>\n",
       "      <th>author</th>\n",
       "    </tr>\n",
       "  </thead>\n",
       "  <tbody>\n",
       "    <tr>\n",
       "      <th>0</th>\n",
       "      <td>88</td>\n",
       "      <td>\"One day, in retrospect, the years of struggle...</td>\n",
       "      <td>18</td>\n",
       "      <td>NaN</td>\n",
       "      <td>https://mobile.twitter.com</td>\n",
       "      <td>en</td>\n",
       "      <td>1354856602885627906</td>\n",
       "      <td>Twitter Web App</td>\n",
       "      <td>1354856602885627906</td>\n",
       "      <td>NaN</td>\n",
       "      <td>lexfridman</td>\n",
       "      <td>lexfridman</td>\n",
       "    </tr>\n",
       "    <tr>\n",
       "      <th>1</th>\n",
       "      <td>34</td>\n",
       "      <td>Hello,\\n\\nWe at Robinhood apologize for the in...</td>\n",
       "      <td>15</td>\n",
       "      <td>NaN</td>\n",
       "      <td>http://twitter.com/download/iphone</td>\n",
       "      <td>en</td>\n",
       "      <td>1354856596510277637</td>\n",
       "      <td>Twitter for iPhone</td>\n",
       "      <td>1354856596510277637</td>\n",
       "      <td>NaN</td>\n",
       "      <td>CaptainNasdaq</td>\n",
       "      <td>CaptainNasdaq</td>\n",
       "    </tr>\n",
       "    <tr>\n",
       "      <th>2</th>\n",
       "      <td>7</td>\n",
       "      <td>Down the hatch. https://t.co/i7CHHWU2OI</td>\n",
       "      <td>2</td>\n",
       "      <td>NaN</td>\n",
       "      <td>http://www.socialflow.com</td>\n",
       "      <td>en</td>\n",
       "      <td>1354856410501283840</td>\n",
       "      <td>SocialFlow</td>\n",
       "      <td>1354856410501283840</td>\n",
       "      <td>NaN</td>\n",
       "      <td>pcgamer</td>\n",
       "      <td>pcgamer</td>\n",
       "    </tr>\n",
       "    <tr>\n",
       "      <th>3</th>\n",
       "      <td>0</td>\n",
       "      <td>RT @BostonJoan: While y'all are grappling with...</td>\n",
       "      <td>5</td>\n",
       "      <td>NaN</td>\n",
       "      <td>http://twitter.com/download/iphone</td>\n",
       "      <td>en</td>\n",
       "      <td>1354856342901583872</td>\n",
       "      <td>Twitter for iPhone</td>\n",
       "      <td>1354856342901583872</td>\n",
       "      <td>NaN</td>\n",
       "      <td>techreview</td>\n",
       "      <td>techreview</td>\n",
       "    </tr>\n",
       "    <tr>\n",
       "      <th>4</th>\n",
       "      <td>93</td>\n",
       "      <td>House Speaker Nancy Pelosi says part of the Ca...</td>\n",
       "      <td>21</td>\n",
       "      <td>NaN</td>\n",
       "      <td>http://www.socialflow.com</td>\n",
       "      <td>en</td>\n",
       "      <td>1354856293484408834</td>\n",
       "      <td>SocialFlow</td>\n",
       "      <td>1354856293484408834</td>\n",
       "      <td>NaN</td>\n",
       "      <td>CNNPolitics</td>\n",
       "      <td>CNNPolitics</td>\n",
       "    </tr>\n",
       "  </tbody>\n",
       "</table>\n",
       "</div>"
      ],
      "text/plain": [
       "   favorite_count                                               text  \\\n",
       "0              88  \"One day, in retrospect, the years of struggle...   \n",
       "1              34  Hello,\\n\\nWe at Robinhood apologize for the in...   \n",
       "2               7            Down the hatch. https://t.co/i7CHHWU2OI   \n",
       "3               0  RT @BostonJoan: While y'all are grappling with...   \n",
       "4              93  House Speaker Nancy Pelosi says part of the Ca...   \n",
       "\n",
       "   retweet_count  quoted_status_id                          source_url lang  \\\n",
       "0             18               NaN          https://mobile.twitter.com   en   \n",
       "1             15               NaN  http://twitter.com/download/iphone   en   \n",
       "2              2               NaN           http://www.socialflow.com   en   \n",
       "3              5               NaN  http://twitter.com/download/iphone   en   \n",
       "4             21               NaN           http://www.socialflow.com   en   \n",
       "\n",
       "                    id              source               id_str  \\\n",
       "0  1354856602885627906     Twitter Web App  1354856602885627906   \n",
       "1  1354856596510277637  Twitter for iPhone  1354856596510277637   \n",
       "2  1354856410501283840          SocialFlow  1354856410501283840   \n",
       "3  1354856342901583872  Twitter for iPhone  1354856342901583872   \n",
       "4  1354856293484408834          SocialFlow  1354856293484408834   \n",
       "\n",
       "  quoted_status_id_str           user         author  \n",
       "0                  NaN     lexfridman     lexfridman  \n",
       "1                  NaN  CaptainNasdaq  CaptainNasdaq  \n",
       "2                  NaN        pcgamer        pcgamer  \n",
       "3                  NaN     techreview     techreview  \n",
       "4                  NaN    CNNPolitics    CNNPolitics  "
      ]
     },
     "execution_count": 32,
     "metadata": {},
     "output_type": "execute_result"
    }
   ],
   "source": [
    "df = pd.DataFrame(tweets_data, columns=header_columns)\n",
    "df.head()"
   ]
  },
  {
   "cell_type": "code",
   "execution_count": 33,
   "metadata": {},
   "outputs": [],
   "source": [
    "def extract_timeline_as_df(timeline_list):\n",
    "    columns = set()\n",
    "    allowed_types = [str, int]\n",
    "    tweets_data = []\n",
    "    for status in timeline_list:\n",
    "        status_dict = dict(vars(status))\n",
    "        keys = vars(status).keys()\n",
    "        single_tweet_data = {\"user\": status.user.screen_name, \"author\": status.author.screen_name}\n",
    "        for k in keys:\n",
    "            try:\n",
    "                v_type = type(status_dict[k])\n",
    "            except:\n",
    "                v_type = None\n",
    "            if v_type != None:\n",
    "                if v_type in allowed_types:\n",
    "                    single_tweet_data[k] = status_dict[k]\n",
    "                    columns.add(k)\n",
    "        tweets_data.append(single_tweet_data)\n",
    "\n",
    "    header_columns = list(columns)\n",
    "    header_columns.append(\"user\")\n",
    "    header_columns.append(\"author\")\n",
    "    df = pd.DataFrame(tweets_data, columns=header_columns)\n",
    "    return df"
   ]
  },
  {
   "cell_type": "code",
   "execution_count": 34,
   "metadata": {},
   "outputs": [
    {
     "data": {
      "text/html": [
       "<div>\n",
       "<style scoped>\n",
       "    .dataframe tbody tr th:only-of-type {\n",
       "        vertical-align: middle;\n",
       "    }\n",
       "\n",
       "    .dataframe tbody tr th {\n",
       "        vertical-align: top;\n",
       "    }\n",
       "\n",
       "    .dataframe thead th {\n",
       "        text-align: right;\n",
       "    }\n",
       "</style>\n",
       "<table border=\"1\" class=\"dataframe\">\n",
       "  <thead>\n",
       "    <tr style=\"text-align: right;\">\n",
       "      <th></th>\n",
       "      <th>favorite_count</th>\n",
       "      <th>in_reply_to_status_id_str</th>\n",
       "      <th>in_reply_to_user_id</th>\n",
       "      <th>text</th>\n",
       "      <th>retweet_count</th>\n",
       "      <th>in_reply_to_screen_name</th>\n",
       "      <th>source_url</th>\n",
       "      <th>in_reply_to_status_id</th>\n",
       "      <th>in_reply_to_user_id_str</th>\n",
       "      <th>lang</th>\n",
       "      <th>id</th>\n",
       "      <th>source</th>\n",
       "      <th>id_str</th>\n",
       "      <th>user</th>\n",
       "      <th>author</th>\n",
       "    </tr>\n",
       "  </thead>\n",
       "  <tbody>\n",
       "    <tr>\n",
       "      <th>0</th>\n",
       "      <td>5428</td>\n",
       "      <td>1354766140606722058</td>\n",
       "      <td>1.071134e+18</td>\n",
       "      <td>@EvanKaylor Nomad</td>\n",
       "      <td>102</td>\n",
       "      <td>EvanKaylor</td>\n",
       "      <td>http://twitter.com/download/iphone</td>\n",
       "      <td>1.354766e+18</td>\n",
       "      <td>1071133717115101186</td>\n",
       "      <td>es</td>\n",
       "      <td>1354766197867368457</td>\n",
       "      <td>Twitter for iPhone</td>\n",
       "      <td>1354766197867368457</td>\n",
       "      <td>elonmusk</td>\n",
       "      <td>elonmusk</td>\n",
       "    </tr>\n",
       "    <tr>\n",
       "      <th>1</th>\n",
       "      <td>3582</td>\n",
       "      <td>1354177839499800578</td>\n",
       "      <td>2.519007e+09</td>\n",
       "      <td>@anbuteau 🤗</td>\n",
       "      <td>150</td>\n",
       "      <td>anbuteau</td>\n",
       "      <td>http://twitter.com/download/iphone</td>\n",
       "      <td>1.354178e+18</td>\n",
       "      <td>2519007301</td>\n",
       "      <td>und</td>\n",
       "      <td>1354761802417057793</td>\n",
       "      <td>Twitter for iPhone</td>\n",
       "      <td>1354761802417057793</td>\n",
       "      <td>elonmusk</td>\n",
       "      <td>elonmusk</td>\n",
       "    </tr>\n",
       "    <tr>\n",
       "      <th>2</th>\n",
       "      <td>68276</td>\n",
       "      <td>1354618772586426368</td>\n",
       "      <td>4.419640e+07</td>\n",
       "      <td>The esthetics of Cyberpunk are incredible btw....</td>\n",
       "      <td>1428</td>\n",
       "      <td>elonmusk</td>\n",
       "      <td>http://twitter.com/download/iphone</td>\n",
       "      <td>1.354619e+18</td>\n",
       "      <td>44196397</td>\n",
       "      <td>en</td>\n",
       "      <td>1354759710126338056</td>\n",
       "      <td>Twitter for iPhone</td>\n",
       "      <td>1354759710126338056</td>\n",
       "      <td>elonmusk</td>\n",
       "      <td>elonmusk</td>\n",
       "    </tr>\n",
       "    <tr>\n",
       "      <th>3</th>\n",
       "      <td>5617</td>\n",
       "      <td>1354598014954975236</td>\n",
       "      <td>8.322704e+08</td>\n",
       "      <td>@TrevorMahlmann @SpaceX Major esthetics improv...</td>\n",
       "      <td>182</td>\n",
       "      <td>TrevorMahlmann</td>\n",
       "      <td>http://twitter.com/download/iphone</td>\n",
       "      <td>1.354598e+18</td>\n",
       "      <td>832270448</td>\n",
       "      <td>ca</td>\n",
       "      <td>1354700252251615232</td>\n",
       "      <td>Twitter for iPhone</td>\n",
       "      <td>1354700252251615232</td>\n",
       "      <td>elonmusk</td>\n",
       "      <td>elonmusk</td>\n",
       "    </tr>\n",
       "    <tr>\n",
       "      <th>4</th>\n",
       "      <td>3660</td>\n",
       "      <td>1354686485681717248</td>\n",
       "      <td>1.016060e+18</td>\n",
       "      <td>@teslaownersSV @DMC_Ryan A little</td>\n",
       "      <td>160</td>\n",
       "      <td>teslaownersSV</td>\n",
       "      <td>http://twitter.com/download/iphone</td>\n",
       "      <td>1.354686e+18</td>\n",
       "      <td>1016059981907386368</td>\n",
       "      <td>en</td>\n",
       "      <td>1354686605261496320</td>\n",
       "      <td>Twitter for iPhone</td>\n",
       "      <td>1354686605261496320</td>\n",
       "      <td>elonmusk</td>\n",
       "      <td>elonmusk</td>\n",
       "    </tr>\n",
       "  </tbody>\n",
       "</table>\n",
       "</div>"
      ],
      "text/plain": [
       "   favorite_count in_reply_to_status_id_str  in_reply_to_user_id  \\\n",
       "0            5428       1354766140606722058         1.071134e+18   \n",
       "1            3582       1354177839499800578         2.519007e+09   \n",
       "2           68276       1354618772586426368         4.419640e+07   \n",
       "3            5617       1354598014954975236         8.322704e+08   \n",
       "4            3660       1354686485681717248         1.016060e+18   \n",
       "\n",
       "                                                text  retweet_count  \\\n",
       "0                                  @EvanKaylor Nomad            102   \n",
       "1                                        @anbuteau 🤗            150   \n",
       "2  The esthetics of Cyberpunk are incredible btw....           1428   \n",
       "3  @TrevorMahlmann @SpaceX Major esthetics improv...            182   \n",
       "4                  @teslaownersSV @DMC_Ryan A little            160   \n",
       "\n",
       "  in_reply_to_screen_name                          source_url  \\\n",
       "0              EvanKaylor  http://twitter.com/download/iphone   \n",
       "1                anbuteau  http://twitter.com/download/iphone   \n",
       "2                elonmusk  http://twitter.com/download/iphone   \n",
       "3          TrevorMahlmann  http://twitter.com/download/iphone   \n",
       "4           teslaownersSV  http://twitter.com/download/iphone   \n",
       "\n",
       "   in_reply_to_status_id in_reply_to_user_id_str lang                   id  \\\n",
       "0           1.354766e+18     1071133717115101186   es  1354766197867368457   \n",
       "1           1.354178e+18              2519007301  und  1354761802417057793   \n",
       "2           1.354619e+18                44196397   en  1354759710126338056   \n",
       "3           1.354598e+18               832270448   ca  1354700252251615232   \n",
       "4           1.354686e+18     1016059981907386368   en  1354686605261496320   \n",
       "\n",
       "               source               id_str      user    author  \n",
       "0  Twitter for iPhone  1354766197867368457  elonmusk  elonmusk  \n",
       "1  Twitter for iPhone  1354761802417057793  elonmusk  elonmusk  \n",
       "2  Twitter for iPhone  1354759710126338056  elonmusk  elonmusk  \n",
       "3  Twitter for iPhone  1354700252251615232  elonmusk  elonmusk  \n",
       "4  Twitter for iPhone  1354686605261496320  elonmusk  elonmusk  "
      ]
     },
     "execution_count": 34,
     "metadata": {},
     "output_type": "execute_result"
    }
   ],
   "source": [
    "user = api.get_user(\"elonmusk\")\n",
    "user_timeline = user.timeline()\n",
    "df3 = extract_timeline_as_df(user_timeline)\n",
    "df3.head()"
   ]
  },
  {
   "cell_type": "markdown",
   "metadata": {},
   "source": [
    "##### Gamestop hype monitor\n",
    "The following monitors twitter for tweets relating to the crazy war between reddit and wall street in January 2021 by checking for tweets mentioning blackberry, AMC, Nokia, and GameStop stocks."
   ]
  },
  {
   "cell_type": "code",
   "execution_count": 35,
   "metadata": {},
   "outputs": [
    {
     "name": "stdout",
     "output_type": "stream",
     "text": [
      "0 RT @AstralTrading: @arshbajwaa So far that I can see that are disabled on Robinhood - $BBBY, $AMC, $NOK, $BB, $KOSS, $EXPR, $GME. $NAKD, $A… Shitcoin12\n",
      "1 Rogue One - Darth Vader Final Scene HD https://t.co/qI3R5r0Hwx via @YouTube\n",
      "\n",
      "Can’t wait to watch all you $gme $amc… https://t.co/UBNdGqnfaO wolfvenom112\n",
      "2 RT @m_k_oz: @AOC @RobinhoodApp For those that don't understand, THIS IS WHAT IS HAPPENING!!! $gme $amc $nakd $sndl $nok $bb https://t.co/KF… SimplyWreaths\n",
      "3 RT @StocksToTrade: We @ STT believe ALL traders should be able to trade stocks freely/not be blocked by any brokers who partner with hedge… Rolph32345080\n",
      "4 RT @NormieHuman: Hold the line!!! diamond hands!!!\n",
      "$GME $DOGE $BB $BBBY $AMC $NAKD https://t.co/oBQyoYXbDy Iamalfr3do\n",
      "5 RT @DraconTV: Also @TradeRepublicDE geht bei der #Gamestop Sache auch voll aufs Ganze und blockiert neben $GME auch $NOK $BB Kauf Order pau… AmarouLP\n",
      "6 RT @AstralTrading: @arshbajwaa So far that I can see that are disabled on Robinhood - $BBBY, $AMC, $NOK, $BB, $KOSS, $EXPR, $GME. $NAKD, $A… FUNKY1byNature\n",
      "7 RT @lalalaurenana: For anyone scared: read this wisdom #wallstreetbets $amc $nok $bb $gme $nakd https://t.co/EG4iB4hR7f 0xTCE\n",
      "8 RT @StocksToTrade: We @ STT believe ALL traders should be able to trade stocks freely/not be blocked by any brokers who partner with hedge… DoogieClark\n",
      "9 RT @CassandraRules: I already own $nok, $amc, $BB and $gme — but robinhood cancelled my order for more gme this morning. I can’t believe th… HAMMERbio\n",
      "10 RT @WSBGeneral: @WSBChairman FUCK WALLSTREET!!!!!!!\n",
      "\n",
      "𝗣𝗢𝗪𝗘𝗥 𝗧𝗢 𝗧𝗛𝗘 𝗣𝗘𝗢𝗣𝗟𝗘!!!!!\n",
      "\n",
      "𝗙𝗨𝗖𝗞 𝗧𝗛𝗘 𝗦𝗨𝗜𝗧𝗦!!!!!! \n",
      "\n",
      "$GME $AMC $BB $NAKD $NOK $SNDL $FUBO… kcdels1981\n",
      "11 RT @Butmac: I will honor the victims of today’s injustice at the hands of @RobinhoodApp by wearing my $GME sweatpants, $AMC preshrunk ringe… hamzakb\n",
      "12 📉 Today's Biggest Losers 📉\n",
      "🥇Gamestop Corporation - Class A\n",
      "$GME » 205.9 🔽141.61▪️️40.75%\n",
      "🥈AMC Entertainment Holding… https://t.co/oFyGhl4jTT wallstsolver\n",
      "13 Literally can’t hedge any of the stocks I own right now.  $BB $BBBY $GME all went down and there’s nothing I can do… https://t.co/v3I0cMbQEq chonson62\n",
      "14 $bb is so cheap now, when people can buy it is going to explode investorr1989\n",
      "15 As a great person once said, “We can stay retarded longer than you can stay solvent” @wsbmod @elonmusk $AMC $GME… https://t.co/4AHiCUKw1f Gee_Gee_1207\n",
      "16 $BB what in the literal fuck are these guys doing..... https://t.co/zjqLBZAI0h MopedPurple\n",
      "17 RT @lalalaurenana: For anyone scared: read this wisdom #wallstreetbets $amc $nok $bb $gme $nakd https://t.co/EG4iB4hR7f SamuelH72879649\n",
      "18 @stillgray Whats next? Tomorrow you can not buy or sell Toyotas or RVs? 😂 Where does this end? $BB $GME $AMC $NOK Marineone18\n",
      "19 RT @jimbo_trading: Robinhood should be investigated for what they have done! $GME $AMC $NOK $BB $AAL Class action lawsuit! RaviPra81085376\n"
     ]
    }
   ],
   "source": [
    "query = '$BB'\n",
    "BB_res = []\n",
    "for i, status in enumerate(tweepy.Cursor(api.search, q=query).items(20)):\n",
    "    BB_res.append(i)\n",
    "    print(i, status.text, status.author.screen_name)"
   ]
  },
  {
   "cell_type": "code",
   "execution_count": 36,
   "metadata": {},
   "outputs": [
    {
     "name": "stdout",
     "output_type": "stream",
     "text": [
      "0 RT @camdasilva: WELP\n",
      "\n",
      "Can’t even buy $NOK, $GME or $AMC on Robinhood.\n",
      "\n",
      "When the hedge funds lose, the rules are changed for the little guys… Kalique_340\n",
      "1 RT @stoolpresidente: I own $amc $nok $nakd.  I bought them with the understanding we live in a free market where people can buy and sell st… clarkconquers\n",
      "2 RT @camdasilva: WELP\n",
      "\n",
      "Can’t even buy $NOK, $GME or $AMC on Robinhood.\n",
      "\n",
      "When the hedge funds lose, the rules are changed for the little guys… jimenez__sv\n",
      "3 RT @fghhgfdg: Guys someone did it! And filed a class action against @RobinhoodApp !!! NICE!!! #wallstreetbets $AMC $GME $nakd $sndl $nok ht… jesterjoe2\n",
      "4 RT @emerson_chris: $AMC $GME $NOK #RobinHood https://t.co/lLzsADYAtP PAZoomer\n",
      "5 RT @stoolpresidente: I own $amc $nok $nakd.  I bought them with the understanding we live in a free market where people can buy and sell st… Mainefreethink1\n",
      "6 RT @Banks: Robinhood legitimately hid $NOK $AMC $GME and $NAKD from search. Internet psychology 101, this will only make things worse for y… FullM3talAlch13\n",
      "7 RT @Ai_Armitex: Buy the dip and HOLD! $amc $nok $bb $gme #DONOTSELL https://t.co/tYnEqagtU4 TertelisRokas\n",
      "8 RT @thedeluxeux: @FinancialTimes They shut off buys on $GME $AMC $BB $NOK and others to save their # 1 customer.\n",
      "\n",
      "If this isn’t pure blasph… Jabbok13\n",
      "9 RT @chrislono: Melvin Capital hedge fund received $2.9B to recover their 100% loss on their short position Citadel provided those funds wit… loveisphere\n",
      "10 RT @stoolpresidente: I’m sitting here down a milly cause @RobinhoodApp are crooks and I still think $amc and $nok come back the second the… Jpm343\n",
      "11 RT @JesusIrving69: UPDATE FROM ROBINHOOD: $GME $NOK $AMC $DOGE $NAKD https://t.co/M1jJiuMSgY RKAmes\n",
      "12 Perfect for dipping\n",
      "$gme $nok $amc $aal #wallstreetbets #GMEtothemoon #WSB https://t.co/9baTIkFLf6 knwlypwly\n",
      "13 If you're from the South and made big bucks on the reddit $GME, $NOK or $AMC rush, I want to talk to you! #reddit #gamestop #gamestonk _AnnaBeahm\n",
      "14 RT @petertripi18: Today in the “Free” Market $AMC $GME $NOK all have been restricted from trading because Billionaires can’t handle the gam… fumoffu_fmp\n",
      "15 RT @dellcam: So many people are trying to read the @RobinhoodApp lawsuit online they've crashed the Southern District of New York's electro… MrsCummings112\n",
      "16 RT @thestockswiftie: 🚨 ROBINHOOD USERS, YOU CAN TRANSFER YOUR PORTFOLIO TO WEBULL FOR FREE. THEY WILL PAY THE TRANSFER FEE. RT AND HOLD THE… crowned_s1\n",
      "17 RT @lilsasquatch66: Do not sell, they want us to sell. HOLD THE LINE!!! $NAKD $NOK $AMC $GME wsbstallion\n",
      "18 RT @niqops: keep on buying $AMC and $NOK lads https://t.co/rsvCFpQsZr HitokiriTenchuu\n",
      "19 RT @thestockswiftie: 🚨 ROBINHOOD USERS, YOU CAN TRANSFER YOUR PORTFOLIO TO WEBULL FOR FREE. THEY WILL PAY THE TRANSFER FEE. RT AND HOLD THE… sssheNOTnice\n"
     ]
    }
   ],
   "source": [
    "query = '$NOK'\n",
    "NOK_res = []\n",
    "for i, status in enumerate(tweepy.Cursor(api.search, q=query).items(20)):\n",
    "    NOK_res.append(i)\n",
    "    print(i, status.text, status.author.screen_name)"
   ]
  },
  {
   "cell_type": "code",
   "execution_count": 37,
   "metadata": {},
   "outputs": [
    {
     "name": "stdout",
     "output_type": "stream",
     "text": [
      "0 RT @Ike_Saul: Robinhood is no longer allowing users to do anything but close out their #GME or #AMC positions. Hard to put into words how o… Gabechomp\n",
      "1 Poor investors: \"I got bills, my rent is due, got kids to feed...\" #amc #gme #nok \n",
      "\n",
      "Robinhood: https://t.co/dGmvIJbV8C RenaylaJoye\n",
      "2 “Wall Street won't be talking about GameStop in a month”. Prove the suits wrong and hold #NOK #GME #AMC #stonks https://t.co/9ntYQdMsKN KeanuTrego\n",
      "3 RT @Ike_Saul: Robinhood is no longer allowing users to do anything but close out their #GME or #AMC positions. Hard to put into words how o… AnastasiaYeager\n",
      "4 RT @Ike_Saul: Robinhood is no longer allowing users to do anything but close out their #GME or #AMC positions. Hard to put into words how o… LoserMcTool\n",
      "5 RT @jan_wiebe: Nach #Robinhood hat nun auch #traderepublic den Handel mit u.a. #GameStop, #Nokia und #AMC gesperrt. Es geht nur noch der Ve… _frezzi\n",
      "6 Disgusting behaviour today from @Trading212 and other stock apps. Market manipulation at its finest, this is not on🤬 #AMC #GME BillyRawlinson\n",
      "7 RT @Ike_Saul: Robinhood is no longer allowing users to do anything but close out their #GME or #AMC positions. Hard to put into words how o… lwoodhouse\n",
      "8 Do it for your parents who lost their homes in 2008. #gme #amcstock #amc #GMEstock planetzozo\n",
      "9 RT @jan_wiebe: Nach #Robinhood hat nun auch #traderepublic den Handel mit u.a. #GameStop, #Nokia und #AMC gesperrt. Es geht nur noch der Ve… orestisske\n",
      "10 Back to using @TDAmeritrade and still fuck @RobinhoodApp  #amc #gme #stormwalstreet dotNoso\n",
      "11 @chamath Cash App #AMC DariusM23102383\n",
      "12 RT @peterdaou: Since we're talking about the stock market and manipulation...\n",
      "\n",
      "#GameStop #AMC #HedgeFunds \n",
      "\n",
      "https://t.co/iQgfhvzvNX LeninStillLives\n",
      "13 @MASTERBTCLTC #AMC #NOK #BB #GME #NAKD all of those of course! AleczAndrade\n",
      "14 RT @arshbajwaa: Thoughts ?? \n",
      "\n",
      "$GME #AMC #wallstreetbets https://t.co/ovYSwAnctq LakhuJr\n",
      "15 RT @arshbajwaa: Thoughts ?? \n",
      "\n",
      "$GME #AMC #wallstreetbets https://t.co/ovYSwAnctq undercover_jman\n",
      "16 RT @loosenyourhold: 2020: “If you losers don’t think $600 is a big enough bailout, maybe do something productive with it like invest in the… NTambuyser\n",
      "17 RT @Thomannn: The stock market is getting taken over! Reddit&gt;&gt;&gt;Wallstreet. Buy #NAKD #AMC #NOK NAKD79452285\n",
      "18 RT @YetiWallet: Don't forget to put your #amc gains into something they can't turn off with a phone call to the CEO. \n",
      "\n",
      "This means open sour… LaserHodl\n",
      "19 @RobinhoodApp Buy on Cash app under stocks tab #AMC #NOK !! MemphisJC13\n"
     ]
    }
   ],
   "source": [
    "query = '#AMC'\n",
    "AMC_res = []\n",
    "for i, status in enumerate(tweepy.Cursor(api.search, q=query, since_id=1354797040480493573).items(20)):\n",
    "    AMC_res.append(i)\n",
    "    print(i, status.text, status.author.screen_name)"
   ]
  },
  {
   "cell_type": "code",
   "execution_count": 39,
   "metadata": {},
   "outputs": [
    {
     "name": "stdout",
     "output_type": "stream",
     "text": [
      "0 RT @hello__caitlin: The stuff going on with $GME, Robinhood and Wall Street is a perfect, chef’s-kiss, compact case study in how our system… GrandmasHGArt\n",
      "1 RT @justinkan: Just got a tip that Citadel reloaded their shorts before they told Robinhood to stop trading $GME.\n",
      "\n",
      "If this is true, Ken Gri… atharvafulay\n",
      "2 Silver short squeeze underway $AMC $GME $SLV\n",
      "https://t.co/f2cwSfhQlW TheHigherSpace\n",
      "3 RT @AstralTrading: @arshbajwaa So far that I can see that are disabled on Robinhood - $BBBY, $AMC, $NOK, $BB, $KOSS, $EXPR, $GME. $NAKD, $A… SB_Airon\n",
      "4 I just thought this was interesting considering $GME  &amp; other securities in the last few days.… https://t.co/N4TrEpKiuv dmosleymanageme\n",
      "5 RT @themaxburns: The lesson of WSB's $GME $NOK $BB $AMC gambit is that investors aren't winners because they find the best way to profit un… jmere09nyc\n",
      "6 RT @AstralTrading: @chamath Updated List of Disabled #stock Tickers\n",
      "\n",
      "Robinhood - $BBBY, $AMC, $NOK, $BB, $KOSS, $EXPR, $GME. $NAKD, $AAL, $… hangryhomer\n",
      "7 RT @spiantado: The GameStop $GME news is too funny not to write a thread about. \n",
      "\n",
      "It's also the most interesting intersection of psychology… JamieLarsH\n",
      "8 RT @justinkan: Just got a tip that Citadel reloaded their shorts before they told Robinhood to stop trading $GME.\n",
      "\n",
      "If this is true, Ken Gri… ChiuTweets\n",
      "9 RT @tarsgg: After hearing that $GME and $AMC are halted to lower the stock prices https://t.co/rw2cqloRUL OTAlmighty\n",
      "10 RT @justinkan: Just got a tip that Citadel reloaded their shorts before they told Robinhood to stop trading $GME.\n",
      "\n",
      "If this is true, Ken Gri… alexpeacock21\n",
      "11 RT @justinkan: Just got a tip that Citadel reloaded their shorts before they told Robinhood to stop trading $GME.\n",
      "\n",
      "If this is true, Ken Gri… BASEDORACLE\n",
      "12 RT @justinkan: Just got a tip that Citadel reloaded their shorts before they told Robinhood to stop trading $GME.\n",
      "\n",
      "If this is true, Ken Gri… wi1ford\n",
      "13 RT @lalalaurenana: For anyone scared: read this wisdom #wallstreetbets $amc $nok $bb $gme $nakd https://t.co/EG4iB4hR7f Jazzybunny99\n",
      "14 RT @justinkan: Just got a tip that Citadel reloaded their shorts before they told Robinhood to stop trading $GME.\n",
      "\n",
      "If this is true, Ken Gri… mariolopezt1\n",
      "15 RT @stonk_talk: @ Robinhood @ Webull #freemarket #DeleteRobinhood #boycottrobinhood $AMC $GME $NOK https://t.co/sMot3Fm06b KateGentle7\n",
      "16 RT @blogofjake: $GME is a battle. $BTC is the war. ariel_dorn17\n",
      "17 RT @justinkan: Just got a tip that Citadel reloaded their shorts before they told Robinhood to stop trading $GME.\n",
      "\n",
      "If this is true, Ken Gri… VirrePlutten\n",
      "18 RT @SubatomicAsh: @RobinhoodApp In light of poor people getting one up on our 1% of rich clients. We are restricting $AMC and $GME so our r… liamchad\n",
      "19 RT @NateDayTrades: $AMC\n",
      " UPDATE 🚨: You can buy AMC on:\n",
      "Charles schwab\n",
      "Revolut\n",
      "Cashapp\n",
      "Degiro\n",
      "E-Trade\n",
      "Fidelity\n",
      "Ameritrade\n",
      "(Copy this &amp; add m… sadboiryry\n"
     ]
    }
   ],
   "source": [
    "query = '$GME'\n",
    "gamestop_res = []\n",
    "for i, status in enumerate(tweepy.Cursor(api.search, q=query).items(20)):\n",
    "    BB_res.append(i)\n",
    "    print(i, status.text, status.author.screen_name)"
   ]
  },
  {
   "cell_type": "code",
   "execution_count": null,
   "metadata": {},
   "outputs": [],
   "source": []
  }
 ],
 "metadata": {
  "kernelspec": {
   "display_name": "Python 3",
   "language": "python",
   "name": "python3"
  },
  "language_info": {
   "codemirror_mode": {
    "name": "ipython",
    "version": 3
   },
   "file_extension": ".py",
   "mimetype": "text/x-python",
   "name": "python",
   "nbconvert_exporter": "python",
   "pygments_lexer": "ipython3",
   "version": "3.8.3"
  }
 },
 "nbformat": 4,
 "nbformat_minor": 4
}
