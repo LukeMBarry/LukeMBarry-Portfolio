{
 "cells": [
  {
   "cell_type": "markdown",
   "metadata": {},
   "source": [
    "# M3 - W1 Assignment: Importing Data from SQL Database\n",
    "## Luke Barry\n",
    "### 11.01.2021"
   ]
  },
  {
   "cell_type": "code",
   "execution_count": 1,
   "metadata": {},
   "outputs": [
    {
     "name": "stdout",
     "output_type": "stream",
     "text": [
      "               name\n",
      "0            albums\n",
      "1   sqlite_sequence\n",
      "2           artists\n",
      "3         customers\n",
      "4         employees\n",
      "5            genres\n",
      "6          invoices\n",
      "7     invoice_items\n",
      "8       media_types\n",
      "9         playlists\n",
      "10   playlist_track\n",
      "11           tracks\n",
      "12     sqlite_stat1\n"
     ]
    }
   ],
   "source": [
    "import numpy as np\n",
    "import pandas as pd\n",
    "import sqlite3\n",
    "con = sqlite3.connect(\"C:/Users/LukeB\\Documents/ELU/chinook.db\")\n",
    "table = pd.read_sql_query(\"SELECT name FROM sqlite_master WHERE type='table'\", con)\n",
    "print(table)"
   ]
  },
  {
   "cell_type": "markdown",
   "metadata": {},
   "source": [
    "### 1) \n",
    "To compare the information in the \"genres\" and \"tracks\" section, I accessed both the tables below."
   ]
  },
  {
   "cell_type": "code",
   "execution_count": 5,
   "metadata": {},
   "outputs": [
    {
     "name": "stdout",
     "output_type": "stream",
     "text": [
      "    GenreId                Name\n",
      "0         1                Rock\n",
      "1         2                Jazz\n",
      "2         3               Metal\n",
      "3         4  Alternative & Punk\n",
      "4         5       Rock And Roll\n",
      "5         6               Blues\n",
      "6         7               Latin\n",
      "7         8              Reggae\n",
      "8         9                 Pop\n",
      "9        10          Soundtrack\n",
      "10       11          Bossa Nova\n",
      "11       12      Easy Listening\n",
      "12       13         Heavy Metal\n",
      "13       14            R&B/Soul\n",
      "14       15   Electronica/Dance\n",
      "15       16               World\n",
      "16       17         Hip Hop/Rap\n",
      "17       18     Science Fiction\n",
      "18       19            TV Shows\n",
      "19       20    Sci Fi & Fantasy\n",
      "20       21               Drama\n",
      "21       22              Comedy\n",
      "22       23         Alternative\n",
      "23       24           Classical\n",
      "24       25               Opera\n"
     ]
    }
   ],
   "source": [
    "genre = pd.read_sql_query('SELECT * FROM genres', con)\n",
    "print(genre)"
   ]
  },
  {
   "cell_type": "code",
   "execution_count": 3,
   "metadata": {},
   "outputs": [
    {
     "data": {
      "text/html": [
       "<div>\n",
       "<style scoped>\n",
       "    .dataframe tbody tr th:only-of-type {\n",
       "        vertical-align: middle;\n",
       "    }\n",
       "\n",
       "    .dataframe tbody tr th {\n",
       "        vertical-align: top;\n",
       "    }\n",
       "\n",
       "    .dataframe thead th {\n",
       "        text-align: right;\n",
       "    }\n",
       "</style>\n",
       "<table border=\"1\" class=\"dataframe\">\n",
       "  <thead>\n",
       "    <tr style=\"text-align: right;\">\n",
       "      <th></th>\n",
       "      <th>TrackId</th>\n",
       "      <th>Name</th>\n",
       "      <th>AlbumId</th>\n",
       "      <th>MediaTypeId</th>\n",
       "      <th>GenreId</th>\n",
       "      <th>Composer</th>\n",
       "      <th>Milliseconds</th>\n",
       "      <th>Bytes</th>\n",
       "      <th>UnitPrice</th>\n",
       "    </tr>\n",
       "  </thead>\n",
       "  <tbody>\n",
       "    <tr>\n",
       "      <th>0</th>\n",
       "      <td>1</td>\n",
       "      <td>For Those About To Rock (We Salute You)</td>\n",
       "      <td>1</td>\n",
       "      <td>1</td>\n",
       "      <td>1</td>\n",
       "      <td>Angus Young, Malcolm Young, Brian Johnson</td>\n",
       "      <td>343719</td>\n",
       "      <td>11170334</td>\n",
       "      <td>0.99</td>\n",
       "    </tr>\n",
       "    <tr>\n",
       "      <th>1</th>\n",
       "      <td>2</td>\n",
       "      <td>Balls to the Wall</td>\n",
       "      <td>2</td>\n",
       "      <td>2</td>\n",
       "      <td>1</td>\n",
       "      <td>None</td>\n",
       "      <td>342562</td>\n",
       "      <td>5510424</td>\n",
       "      <td>0.99</td>\n",
       "    </tr>\n",
       "    <tr>\n",
       "      <th>2</th>\n",
       "      <td>3</td>\n",
       "      <td>Fast As a Shark</td>\n",
       "      <td>3</td>\n",
       "      <td>2</td>\n",
       "      <td>1</td>\n",
       "      <td>F. Baltes, S. Kaufman, U. Dirkscneider &amp; W. Ho...</td>\n",
       "      <td>230619</td>\n",
       "      <td>3990994</td>\n",
       "      <td>0.99</td>\n",
       "    </tr>\n",
       "    <tr>\n",
       "      <th>3</th>\n",
       "      <td>4</td>\n",
       "      <td>Restless and Wild</td>\n",
       "      <td>3</td>\n",
       "      <td>2</td>\n",
       "      <td>1</td>\n",
       "      <td>F. Baltes, R.A. Smith-Diesel, S. Kaufman, U. D...</td>\n",
       "      <td>252051</td>\n",
       "      <td>4331779</td>\n",
       "      <td>0.99</td>\n",
       "    </tr>\n",
       "    <tr>\n",
       "      <th>4</th>\n",
       "      <td>5</td>\n",
       "      <td>Princess of the Dawn</td>\n",
       "      <td>3</td>\n",
       "      <td>2</td>\n",
       "      <td>1</td>\n",
       "      <td>Deaffy &amp; R.A. Smith-Diesel</td>\n",
       "      <td>375418</td>\n",
       "      <td>6290521</td>\n",
       "      <td>0.99</td>\n",
       "    </tr>\n",
       "  </tbody>\n",
       "</table>\n",
       "</div>"
      ],
      "text/plain": [
       "   TrackId                                     Name  AlbumId  MediaTypeId  \\\n",
       "0        1  For Those About To Rock (We Salute You)        1            1   \n",
       "1        2                        Balls to the Wall        2            2   \n",
       "2        3                          Fast As a Shark        3            2   \n",
       "3        4                        Restless and Wild        3            2   \n",
       "4        5                     Princess of the Dawn        3            2   \n",
       "\n",
       "   GenreId                                           Composer  Milliseconds  \\\n",
       "0        1          Angus Young, Malcolm Young, Brian Johnson        343719   \n",
       "1        1                                               None        342562   \n",
       "2        1  F. Baltes, S. Kaufman, U. Dirkscneider & W. Ho...        230619   \n",
       "3        1  F. Baltes, R.A. Smith-Diesel, S. Kaufman, U. D...        252051   \n",
       "4        1                         Deaffy & R.A. Smith-Diesel        375418   \n",
       "\n",
       "      Bytes  UnitPrice  \n",
       "0  11170334       0.99  \n",
       "1   5510424       0.99  \n",
       "2   3990994       0.99  \n",
       "3   4331779       0.99  \n",
       "4   6290521       0.99  "
      ]
     },
     "execution_count": 3,
     "metadata": {},
     "output_type": "execute_result"
    }
   ],
   "source": [
    "tracks = pd.read_sql_query('SELECT * FROM tracks', con)\n",
    "tracks.head()"
   ]
  },
  {
   "cell_type": "markdown",
   "metadata": {},
   "source": [
    "### 2) \n",
    "Finding all the metal songs "
   ]
  },
  {
   "cell_type": "code",
   "execution_count": 4,
   "metadata": {},
   "outputs": [
    {
     "data": {
      "text/html": [
       "<div>\n",
       "<style scoped>\n",
       "    .dataframe tbody tr th:only-of-type {\n",
       "        vertical-align: middle;\n",
       "    }\n",
       "\n",
       "    .dataframe tbody tr th {\n",
       "        vertical-align: top;\n",
       "    }\n",
       "\n",
       "    .dataframe thead th {\n",
       "        text-align: right;\n",
       "    }\n",
       "</style>\n",
       "<table border=\"1\" class=\"dataframe\">\n",
       "  <thead>\n",
       "    <tr style=\"text-align: right;\">\n",
       "      <th></th>\n",
       "      <th>Song_Title</th>\n",
       "      <th>Genre</th>\n",
       "    </tr>\n",
       "  </thead>\n",
       "  <tbody>\n",
       "    <tr>\n",
       "      <th>0</th>\n",
       "      <td>Enter Sandman</td>\n",
       "      <td>Metal</td>\n",
       "    </tr>\n",
       "    <tr>\n",
       "      <th>1</th>\n",
       "      <td>Master Of Puppets</td>\n",
       "      <td>Metal</td>\n",
       "    </tr>\n",
       "    <tr>\n",
       "      <th>2</th>\n",
       "      <td>Harvester Of Sorrow</td>\n",
       "      <td>Metal</td>\n",
       "    </tr>\n",
       "    <tr>\n",
       "      <th>3</th>\n",
       "      <td>The Unforgiven</td>\n",
       "      <td>Metal</td>\n",
       "    </tr>\n",
       "    <tr>\n",
       "      <th>4</th>\n",
       "      <td>Sad But True</td>\n",
       "      <td>Metal</td>\n",
       "    </tr>\n",
       "  </tbody>\n",
       "</table>\n",
       "</div>"
      ],
      "text/plain": [
       "            Song_Title  Genre\n",
       "0        Enter Sandman  Metal\n",
       "1    Master Of Puppets  Metal\n",
       "2  Harvester Of Sorrow  Metal\n",
       "3       The Unforgiven  Metal\n",
       "4         Sad But True  Metal"
      ]
     },
     "execution_count": 4,
     "metadata": {},
     "output_type": "execute_result"
    }
   ],
   "source": [
    "metal = pd.read_sql_query('SELECT a.Name as Song_Title, b.Name as Genre FROM tracks as a\\\n",
    "                            LEFT JOIN genres as b on a.GenreId=b.GenreId\\\n",
    "                            WHERE Genre == \"Metal\"', con)\n",
    "metal.head()"
   ]
  },
  {
   "cell_type": "markdown",
   "metadata": {},
   "source": [
    "### 3) \n",
    "Finding how much of each genre there is."
   ]
  },
  {
   "cell_type": "code",
   "execution_count": 10,
   "metadata": {},
   "outputs": [
    {
     "name": "stdout",
     "output_type": "stream",
     "text": [
      "                 Genre   AMT\n",
      "0                 Rock  1297\n",
      "1                Latin   579\n",
      "2                Metal   374\n",
      "3   Alternative & Punk   332\n",
      "4                 Jazz   130\n",
      "5             TV Shows    93\n",
      "6                Blues    81\n",
      "7            Classical    74\n",
      "8                Drama    64\n",
      "9             R&B/Soul    61\n",
      "10              Reggae    58\n",
      "11                 Pop    48\n",
      "12          Soundtrack    43\n",
      "13         Alternative    40\n",
      "14         Hip Hop/Rap    35\n",
      "15   Electronica/Dance    30\n",
      "16         Heavy Metal    28\n",
      "17               World    28\n",
      "18    Sci Fi & Fantasy    26\n",
      "19      Easy Listening    24\n",
      "20              Comedy    17\n",
      "21          Bossa Nova    15\n",
      "22     Science Fiction    13\n",
      "23       Rock And Roll    12\n",
      "24               Opera     1\n"
     ]
    }
   ],
   "source": [
    "genre_amt = pd.read_sql_query('SELECT b.Name as Genre, COUNT(a.GenreId) as AMT\\\n",
    "                             FROM tracks as a LEFT JOIN genres as b\\\n",
    "                             on a.GenreId=b.GenreId GROUP BY a.GenreId ORDER BY AMT DESC', con)\n",
    "print(genre_amt)"
   ]
  },
  {
   "cell_type": "markdown",
   "metadata": {},
   "source": [
    "### 4) \n",
    "Finding which composers have the longest songs on average"
   ]
  },
  {
   "cell_type": "code",
   "execution_count": 6,
   "metadata": {},
   "outputs": [
    {
     "name": "stdout",
     "output_type": "stream",
     "text": [
      "     AVG_Song_Length_ms                                           Composer\n",
      "0             1196094.0                 Blackmore/Gillan/Glover/Lord/Paice\n",
      "1             1116734.0                            Jimmy Page/Led Zeppelin\n",
      "2              913658.0           Gillan/Glover/Lord/Nix - Blackmore/Paice\n",
      "3              863895.0  John Bonham/John Paul Jones/Robert Plant/Willi...\n",
      "4              854700.0                                Blackmore/Coverdale\n",
      "..                  ...                                                ...\n",
      "848             65488.0                                         Dale Evans\n",
      "849             45191.0  Marisa Monte/poema de Octavio Paz/versão: Haro...\n",
      "850             43232.0                                      Hendrix, Jimi\n",
      "851             38164.0      Mabins, Macie/Magee, Sterling/Robinson, Bobby\n",
      "852             14576.0                                        L. Muggerud\n",
      "\n",
      "[853 rows x 2 columns]\n"
     ]
    }
   ],
   "source": [
    "avg_ms = pd.read_sql_query('SELECT AVG(Milliseconds) as AVG_Song_Length_ms, Composer\\\n",
    "                    FROM tracks GROUP BY Composer ORDER BY AVG_Song_Length_ms DESC', con)\n",
    "print(avg_ms)"
   ]
  },
  {
   "cell_type": "markdown",
   "metadata": {},
   "source": [
    "### 5) \n",
    "Finding which genres have the longest content"
   ]
  },
  {
   "cell_type": "code",
   "execution_count": 7,
   "metadata": {},
   "outputs": [
    {
     "name": "stdout",
     "output_type": "stream",
     "text": [
      "                 Genre  Content_Length_ms\n",
      "0             TV Shows            5286953\n",
      "1     Sci Fi & Fantasy            2622622\n",
      "2      Science Fiction            2622250\n",
      "3                Drama            2571154\n",
      "4               Comedy            1273064\n",
      "5    Electronica/Dance             529684\n",
      "6           Bossa Nova             409965\n",
      "7            Classical             356426\n",
      "8                 Rock             343719\n",
      "9          Hip Hop/Rap             315637\n",
      "10               World             284107\n",
      "11          Soundtrack             276349\n",
      "12      Easy Listening             275879\n",
      "13  Alternative & Punk             255529\n",
      "14              Reggae             249808\n",
      "15         Alternative             234013\n",
      "16         Heavy Metal             232777\n",
      "17               Metal             221701\n",
      "18                 Pop             205479\n",
      "19                Jazz             185338\n",
      "20               Latin             177397\n",
      "21               Opera             174813\n",
      "22            R&B/Soul             165067\n",
      "23       Rock And Roll             147591\n",
      "24               Blues             140434\n"
     ]
    }
   ],
   "source": [
    "content_length = pd.read_sql_query('SELECT b.Name as Genre, Milliseconds as Content_Length_ms\\\n",
    "                             FROM tracks as a INNER JOIN genres as b\\\n",
    "                             on a.GenreId=b.GenreId GROUP BY a.GenreId ORDER BY Content_Length_ms DESC', con)\n",
    "print(content_length)"
   ]
  }
 ],
 "metadata": {
  "kernelspec": {
   "display_name": "Python 3",
   "language": "python",
   "name": "python3"
  },
  "language_info": {
   "codemirror_mode": {
    "name": "ipython",
    "version": 3
   },
   "file_extension": ".py",
   "mimetype": "text/x-python",
   "name": "python",
   "nbconvert_exporter": "python",
   "pygments_lexer": "ipython3",
   "version": "3.8.3"
  }
 },
 "nbformat": 4,
 "nbformat_minor": 4
}
