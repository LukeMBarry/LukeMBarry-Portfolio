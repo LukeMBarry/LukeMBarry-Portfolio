{
 "cells": [
  {
   "cell_type": "markdown",
   "metadata": {},
   "source": [
    "<a id='top'></a>\n",
    "\n",
    "## Data Cleaning: \n",
    "#### Cleaning \"[Using Data Mining for Bank Direct Marketing: An Application of the CRISP-DM Methodology](https://archive.ics.uci.edu/ml/machine-learning-databases/00222/bank.zip)\" (Moro et al., 2011)\n",
    "##### Luke Barry\n",
    "\n",
    "\n",
    "This project cleans and cleans and examines data for any outliers before exporting the tidied data to a csv file.\n",
    "\n",
    "Further information on the columns can be found in the '[Bank Client Data](#ref)' cell.\n"
   ]
  },
  {
   "cell_type": "code",
   "execution_count": 1,
   "metadata": {},
   "outputs": [],
   "source": [
    "import numpy as np\n",
    "import pandas as pd\n",
    "import seaborn as sns\n",
    "from datetime import datetime\n",
    "import matplotlib.pyplot as plt"
   ]
  },
  {
   "cell_type": "code",
   "execution_count": 2,
   "metadata": {},
   "outputs": [
    {
     "data": {
      "text/html": [
       "<div>\n",
       "<style scoped>\n",
       "    .dataframe tbody tr th:only-of-type {\n",
       "        vertical-align: middle;\n",
       "    }\n",
       "\n",
       "    .dataframe tbody tr th {\n",
       "        vertical-align: top;\n",
       "    }\n",
       "\n",
       "    .dataframe thead th {\n",
       "        text-align: right;\n",
       "    }\n",
       "</style>\n",
       "<table border=\"1\" class=\"dataframe\">\n",
       "  <thead>\n",
       "    <tr style=\"text-align: right;\">\n",
       "      <th></th>\n",
       "      <th>age;\"job\";\"marital\";\"education\";\"default\";\"balance\";\"housing\";\"loan\";\"contact\";\"day\";\"month\";\"duration\";\"campaign\";\"pdays\";\"previous\";\"poutcome\";\"y\"</th>\n",
       "    </tr>\n",
       "  </thead>\n",
       "  <tbody>\n",
       "    <tr>\n",
       "      <th>0</th>\n",
       "      <td>58;\"management\";\"married\";\"tertiary\";\"no\";2143...</td>\n",
       "    </tr>\n",
       "    <tr>\n",
       "      <th>1</th>\n",
       "      <td>44;\"technician\";\"single\";\"secondary\";\"no\";29;\"...</td>\n",
       "    </tr>\n",
       "    <tr>\n",
       "      <th>2</th>\n",
       "      <td>33;\"entrepreneur\";\"married\";\"secondary\";\"no\";2...</td>\n",
       "    </tr>\n",
       "    <tr>\n",
       "      <th>3</th>\n",
       "      <td>47;\"blue-collar\";\"married\";\"unknown\";\"no\";1506...</td>\n",
       "    </tr>\n",
       "    <tr>\n",
       "      <th>4</th>\n",
       "      <td>33;\"unknown\";\"single\";\"unknown\";\"no\";1;\"no\";\"n...</td>\n",
       "    </tr>\n",
       "  </tbody>\n",
       "</table>\n",
       "</div>"
      ],
      "text/plain": [
       "  age;\"job\";\"marital\";\"education\";\"default\";\"balance\";\"housing\";\"loan\";\"contact\";\"day\";\"month\";\"duration\";\"campaign\";\"pdays\";\"previous\";\"poutcome\";\"y\"\n",
       "0  58;\"management\";\"married\";\"tertiary\";\"no\";2143...                                                                                                  \n",
       "1  44;\"technician\";\"single\";\"secondary\";\"no\";29;\"...                                                                                                  \n",
       "2  33;\"entrepreneur\";\"married\";\"secondary\";\"no\";2...                                                                                                  \n",
       "3  47;\"blue-collar\";\"married\";\"unknown\";\"no\";1506...                                                                                                  \n",
       "4  33;\"unknown\";\"single\";\"unknown\";\"no\";1;\"no\";\"n...                                                                                                  "
      ]
     },
     "execution_count": 2,
     "metadata": {},
     "output_type": "execute_result"
    }
   ],
   "source": [
    "# importing csv\n",
    "df = pd.read_csv(r'C:\\Users\\LukeB\\Documents\\ELU\\bank-full.csv', na_values='unknown')\n",
    "df.head()"
   ]
  },
  {
   "cell_type": "code",
   "execution_count": 3,
   "metadata": {},
   "outputs": [],
   "source": [
    "# making a copy in case I mess up passed the point of no return\n",
    "df2 = df.copy()"
   ]
  },
  {
   "cell_type": "code",
   "execution_count": 4,
   "metadata": {},
   "outputs": [
    {
     "data": {
      "text/html": [
       "<div>\n",
       "<style scoped>\n",
       "    .dataframe tbody tr th:only-of-type {\n",
       "        vertical-align: middle;\n",
       "    }\n",
       "\n",
       "    .dataframe tbody tr th {\n",
       "        vertical-align: top;\n",
       "    }\n",
       "\n",
       "    .dataframe thead th {\n",
       "        text-align: right;\n",
       "    }\n",
       "</style>\n",
       "<table border=\"1\" class=\"dataframe\">\n",
       "  <thead>\n",
       "    <tr style=\"text-align: right;\">\n",
       "      <th></th>\n",
       "      <th>age</th>\n",
       "      <th>job</th>\n",
       "      <th>marital</th>\n",
       "      <th>education</th>\n",
       "      <th>default</th>\n",
       "      <th>balance</th>\n",
       "      <th>housing</th>\n",
       "      <th>loan</th>\n",
       "      <th>contact</th>\n",
       "      <th>day</th>\n",
       "      <th>month</th>\n",
       "      <th>duration</th>\n",
       "      <th>campaign</th>\n",
       "      <th>pdays</th>\n",
       "      <th>previous</th>\n",
       "      <th>poutcome</th>\n",
       "      <th>term_deposit</th>\n",
       "    </tr>\n",
       "  </thead>\n",
       "  <tbody>\n",
       "    <tr>\n",
       "      <th>0</th>\n",
       "      <td>58</td>\n",
       "      <td>management</td>\n",
       "      <td>married</td>\n",
       "      <td>tertiary</td>\n",
       "      <td>no</td>\n",
       "      <td>2143</td>\n",
       "      <td>yes</td>\n",
       "      <td>no</td>\n",
       "      <td>unknown</td>\n",
       "      <td>5</td>\n",
       "      <td>may</td>\n",
       "      <td>261</td>\n",
       "      <td>1</td>\n",
       "      <td>-1</td>\n",
       "      <td>0</td>\n",
       "      <td>unknown</td>\n",
       "      <td>no</td>\n",
       "    </tr>\n",
       "    <tr>\n",
       "      <th>1</th>\n",
       "      <td>44</td>\n",
       "      <td>technician</td>\n",
       "      <td>single</td>\n",
       "      <td>secondary</td>\n",
       "      <td>no</td>\n",
       "      <td>29</td>\n",
       "      <td>yes</td>\n",
       "      <td>no</td>\n",
       "      <td>unknown</td>\n",
       "      <td>5</td>\n",
       "      <td>may</td>\n",
       "      <td>151</td>\n",
       "      <td>1</td>\n",
       "      <td>-1</td>\n",
       "      <td>0</td>\n",
       "      <td>unknown</td>\n",
       "      <td>no</td>\n",
       "    </tr>\n",
       "    <tr>\n",
       "      <th>2</th>\n",
       "      <td>33</td>\n",
       "      <td>entrepreneur</td>\n",
       "      <td>married</td>\n",
       "      <td>secondary</td>\n",
       "      <td>no</td>\n",
       "      <td>2</td>\n",
       "      <td>yes</td>\n",
       "      <td>yes</td>\n",
       "      <td>unknown</td>\n",
       "      <td>5</td>\n",
       "      <td>may</td>\n",
       "      <td>76</td>\n",
       "      <td>1</td>\n",
       "      <td>-1</td>\n",
       "      <td>0</td>\n",
       "      <td>unknown</td>\n",
       "      <td>no</td>\n",
       "    </tr>\n",
       "    <tr>\n",
       "      <th>3</th>\n",
       "      <td>47</td>\n",
       "      <td>blue-collar</td>\n",
       "      <td>married</td>\n",
       "      <td>unknown</td>\n",
       "      <td>no</td>\n",
       "      <td>1506</td>\n",
       "      <td>yes</td>\n",
       "      <td>no</td>\n",
       "      <td>unknown</td>\n",
       "      <td>5</td>\n",
       "      <td>may</td>\n",
       "      <td>92</td>\n",
       "      <td>1</td>\n",
       "      <td>-1</td>\n",
       "      <td>0</td>\n",
       "      <td>unknown</td>\n",
       "      <td>no</td>\n",
       "    </tr>\n",
       "    <tr>\n",
       "      <th>4</th>\n",
       "      <td>33</td>\n",
       "      <td>unknown</td>\n",
       "      <td>single</td>\n",
       "      <td>unknown</td>\n",
       "      <td>no</td>\n",
       "      <td>1</td>\n",
       "      <td>no</td>\n",
       "      <td>no</td>\n",
       "      <td>unknown</td>\n",
       "      <td>5</td>\n",
       "      <td>may</td>\n",
       "      <td>198</td>\n",
       "      <td>1</td>\n",
       "      <td>-1</td>\n",
       "      <td>0</td>\n",
       "      <td>unknown</td>\n",
       "      <td>no</td>\n",
       "    </tr>\n",
       "  </tbody>\n",
       "</table>\n",
       "</div>"
      ],
      "text/plain": [
       "  age           job  marital  education default balance housing loan  contact  \\\n",
       "0  58    management  married   tertiary      no    2143     yes   no  unknown   \n",
       "1  44    technician   single  secondary      no      29     yes   no  unknown   \n",
       "2  33  entrepreneur  married  secondary      no       2     yes  yes  unknown   \n",
       "3  47   blue-collar  married    unknown      no    1506     yes   no  unknown   \n",
       "4  33       unknown   single    unknown      no       1      no   no  unknown   \n",
       "\n",
       "  day month duration campaign pdays previous poutcome term_deposit  \n",
       "0   5   may      261        1    -1        0  unknown           no  \n",
       "1   5   may      151        1    -1        0  unknown           no  \n",
       "2   5   may       76        1    -1        0  unknown           no  \n",
       "3   5   may       92        1    -1        0  unknown           no  \n",
       "4   5   may      198        1    -1        0  unknown           no  "
      ]
     },
     "execution_count": 4,
     "metadata": {},
     "output_type": "execute_result"
    }
   ],
   "source": [
    "# creating a new dataframe 'bank'\n",
    "df2.columns = df2.columns.str.replace('\"', '')\n",
    "col = df2.columns.str.split(';')\n",
    "info = df2.iloc[:, 0].str.replace('\"', '').str.split(';', expand=True)\n",
    "col1 = col[0]\n",
    "col1\n",
    "bank = pd.DataFrame(info)\n",
    "bank.columns = col1\n",
    "bank = bank.rename(columns={'y': 'term_deposit'})\n",
    "bank.head(5)"
   ]
  },
  {
   "cell_type": "code",
   "execution_count": 5,
   "metadata": {},
   "outputs": [],
   "source": [
    "# updating 'unknown values to NaN'\n",
    "bank = bank.replace('unknown', np.NaN)"
   ]
  },
  {
   "cell_type": "code",
   "execution_count": 6,
   "metadata": {},
   "outputs": [
    {
     "data": {
      "text/plain": [
       "0         May 5\n",
       "1         May 5\n",
       "2         May 5\n",
       "3         May 5\n",
       "4         May 5\n",
       "          ...  \n",
       "45206    Nov 17\n",
       "45207    Nov 17\n",
       "45208    Nov 17\n",
       "45209    Nov 17\n",
       "45210    Nov 17\n",
       "Name: contact_date, Length: 45211, dtype: object"
      ]
     },
     "execution_count": 6,
     "metadata": {},
     "output_type": "execute_result"
    }
   ],
   "source": [
    "# combining month and day to one column 'contact_date'\n",
    "bank['contact_date'] = bank['month'].str.capitalize() + ' ' + bank['day']\n",
    "bank['contact_date']"
   ]
  },
  {
   "cell_type": "code",
   "execution_count": 7,
   "metadata": {},
   "outputs": [
    {
     "data": {
      "text/plain": [
       "0        May 05\n",
       "1        May 05\n",
       "2        May 05\n",
       "3        May 05\n",
       "4        May 05\n",
       "          ...  \n",
       "45206    Nov 17\n",
       "45207    Nov 17\n",
       "45208    Nov 17\n",
       "45209    Nov 17\n",
       "45210    Nov 17\n",
       "Name: contact_date, Length: 45211, dtype: object"
      ]
     },
     "execution_count": 7,
     "metadata": {},
     "output_type": "execute_result"
    }
   ],
   "source": [
    "#converting to datetime\n",
    "bank['contact_date'] =  pd.to_datetime(bank['contact_date'], format='%b %d')\n",
    "bank['contact_date']  = bank['contact_date'].dt.strftime('%b %d')\n",
    "bank['contact_date']"
   ]
  },
  {
   "cell_type": "code",
   "execution_count": 8,
   "metadata": {},
   "outputs": [],
   "source": [
    "#getting rid of month and day columns\n",
    "bank = bank.drop(['month','day'], axis=1)"
   ]
  },
  {
   "cell_type": "code",
   "execution_count": 9,
   "metadata": {},
   "outputs": [
    {
     "data": {
      "text/plain": [
       "poutcome        36959\n",
       "contact         13020\n",
       "education        1857\n",
       "job               288\n",
       "contact_date        0\n",
       "term_deposit        0\n",
       "previous            0\n",
       "pdays               0\n",
       "campaign            0\n",
       "duration            0\n",
       "loan                0\n",
       "housing             0\n",
       "balance             0\n",
       "default             0\n",
       "marital             0\n",
       "age                 0\n",
       "dtype: int64"
      ]
     },
     "execution_count": 9,
     "metadata": {},
     "output_type": "execute_result"
    }
   ],
   "source": [
    "#checking for null values\n",
    "bank.isnull().sum().sort_values(ascending=False)"
   ]
  },
  {
   "cell_type": "code",
   "execution_count": 10,
   "metadata": {},
   "outputs": [
    {
     "name": "stdout",
     "output_type": "stream",
     "text": [
      "Unique Values: \n",
      "poutcome:  [nan 'failure' 'other' 'success']\n",
      "contact:  [nan 'cellular' 'telephone']\n",
      "education:  ['tertiary' 'secondary' nan 'primary']\n",
      "job:  ['management' 'technician' 'entrepreneur' 'blue-collar' nan 'retired'\n",
      " 'admin.' 'services' 'self-employed' 'unemployed' 'housemaid' 'student']\n"
     ]
    }
   ],
   "source": [
    "# checking what values are in the columns with na values\n",
    "print('Unique Values: ')\n",
    "print('poutcome: ', bank['poutcome'].unique())\n",
    "print('contact: ', bank['contact'].unique())\n",
    "print('education: ', bank['education'].unique())\n",
    "print('job: ', bank['job'].unique())"
   ]
  },
  {
   "cell_type": "markdown",
   "metadata": {},
   "source": [
    "'Other' and NaN in terms of success and failure are close enough to be merged."
   ]
  },
  {
   "cell_type": "code",
   "execution_count": 11,
   "metadata": {},
   "outputs": [
    {
     "data": {
      "text/plain": [
       "0"
      ]
     },
     "execution_count": 11,
     "metadata": {},
     "output_type": "execute_result"
    }
   ],
   "source": [
    "# filling na with other\n",
    "bank['poutcome'] = bank['poutcome'].fillna('other')\n",
    "bank['poutcome'].isna().sum()"
   ]
  },
  {
   "cell_type": "code",
   "execution_count": 12,
   "metadata": {},
   "outputs": [
    {
     "data": {
      "text/plain": [
       "cellular     29285\n",
       "telephone     2906\n",
       "Name: contact, dtype: int64"
      ]
     },
     "execution_count": 12,
     "metadata": {},
     "output_type": "execute_result"
    }
   ],
   "source": [
    "# inspecting contact\n",
    "bank['contact'].value_counts()"
   ]
  },
  {
   "cell_type": "markdown",
   "metadata": {},
   "source": [
    "The difference between 'telephone' and 'cellular' is inconsiquential and holds no useful information. I will drop this column."
   ]
  },
  {
   "cell_type": "code",
   "execution_count": 13,
   "metadata": {},
   "outputs": [],
   "source": [
    "# dropping contact column\n",
    "bank = bank.drop('contact', axis=1)"
   ]
  },
  {
   "cell_type": "code",
   "execution_count": 14,
   "metadata": {},
   "outputs": [
    {
     "name": "stdout",
     "output_type": "stream",
     "text": [
      "NaN:         1857\n",
      "secondary    23202\n",
      "tertiary     13301\n",
      "primary       6851\n",
      "Name: education, dtype: int64\n"
     ]
    }
   ],
   "source": [
    "# inspecting education\n",
    "print('NaN:        ', bank['education'].isna().sum())\n",
    "print(bank['education'].value_counts())"
   ]
  },
  {
   "cell_type": "markdown",
   "metadata": {},
   "source": [
    "I think it is a fair assumption that a vast majority of respondants have finished secondary school, I will replace the reletively small amount of na values with secondary school."
   ]
  },
  {
   "cell_type": "code",
   "execution_count": 15,
   "metadata": {},
   "outputs": [
    {
     "name": "stdout",
     "output_type": "stream",
     "text": [
      "NaN:         0\n",
      "secondary    25059\n",
      "tertiary     13301\n",
      "primary       6851\n",
      "Name: education, dtype: int64\n"
     ]
    }
   ],
   "source": [
    "# replacing NAN with mode\n",
    "bank['education'] = bank['education'].fillna(bank['education'].mode()[0])\n",
    "print('NaN:        ', bank['education'].isna().sum())\n",
    "print(bank['education'].value_counts())"
   ]
  },
  {
   "cell_type": "code",
   "execution_count": 16,
   "metadata": {},
   "outputs": [
    {
     "name": "stdout",
     "output_type": "stream",
     "text": [
      "blue-collar      9732\n",
      "management       9458\n",
      "technician       7597\n",
      "admin.           5171\n",
      "services         4154\n",
      "retired          2264\n",
      "self-employed    1579\n",
      "entrepreneur     1487\n",
      "unemployed       1303\n",
      "housemaid        1240\n",
      "student           938\n",
      "Name: job, dtype: int64\n"
     ]
    }
   ],
   "source": [
    "# inspecting job column\n",
    "print(bank['job'].value_counts())"
   ]
  },
  {
   "cell_type": "markdown",
   "metadata": {},
   "source": [
    "According to [Europa.eu](https://ec.europa.eu/eurostat/documents/2995521/5033358/3-30112011-BP-EN.PDF/9f1b0596-97ca-4d82-a98d-7e636438e91c#:~:text=Between%20October%202010%20and%20October,to%209.9%25%20in%20the%20EU27.), the unemployment rate in Europe was around 9.8%. I will use this information to determine the likelihood of NaN results being unemployed."
   ]
  },
  {
   "cell_type": "code",
   "execution_count": 17,
   "metadata": {},
   "outputs": [
    {
     "name": "stdout",
     "output_type": "stream",
     "text": [
      "No response + unemployed: 3.519055097210856\n",
      "Europe unemployment rate: 9.8\n"
     ]
    }
   ],
   "source": [
    "# Adding nan and unemployed and comparing to europe's average\n",
    "print('No response + unemployed:', ((bank['job'].isnull().sum() / bank.shape[0]) + (len(bank[bank['job'] == 'unemployed']) / bank.shape[0])) * 100)\n",
    "print('Europe unemployment rate: 9.8')"
   ]
  },
  {
   "cell_type": "markdown",
   "metadata": {},
   "source": [
    "Given the fact that the unemployed percentage is still significantly what was the average for europe at the time, I think it is reasonable to assume a large amount of NaN responses were unemployed. "
   ]
  },
  {
   "cell_type": "code",
   "execution_count": 18,
   "metadata": {},
   "outputs": [
    {
     "name": "stdout",
     "output_type": "stream",
     "text": [
      "expected:  1591\n",
      "actual:  1591\n"
     ]
    }
   ],
   "source": [
    "# changing Nan values to unemployed\n",
    "bank['job'] = bank['job'].fillna('unemployed')\n",
    "print('expected: ', 1303 + 288)\n",
    "print('actual: ', len(bank[bank['job'] == 'unemployed']))"
   ]
  },
  {
   "cell_type": "code",
   "execution_count": 19,
   "metadata": {},
   "outputs": [
    {
     "name": "stdout",
     "output_type": "stream",
     "text": [
      "contact_date    0\n",
      "term_deposit    0\n",
      "poutcome        0\n",
      "previous        0\n",
      "pdays           0\n",
      "campaign        0\n",
      "duration        0\n",
      "loan            0\n",
      "housing         0\n",
      "balance         0\n",
      "default         0\n",
      "education       0\n",
      "marital         0\n",
      "job             0\n",
      "age             0\n",
      "dtype: int64\n"
     ]
    }
   ],
   "source": [
    "# check to ensure all NaN values have been accounted for\n",
    "print(bank.isnull().sum().sort_values(ascending=False))"
   ]
  },
  {
   "cell_type": "markdown",
   "metadata": {},
   "source": [
    "When exploring the data, I wasn't able to find any outliers that would deem significant enough to change or remove. I did however, find that the balance was skewed to the right, with a max significantly higher than the mean, so I wanted to examine why that is."
   ]
  },
  {
   "cell_type": "code",
   "execution_count": 20,
   "metadata": {},
   "outputs": [
    {
     "data": {
      "text/plain": [
       "count     45211.000000\n",
       "mean       1362.272058\n",
       "std        3044.765829\n",
       "min       -8019.000000\n",
       "25%          72.000000\n",
       "50%         448.000000\n",
       "75%        1428.000000\n",
       "max      102127.000000\n",
       "Name: balance, dtype: float64"
      ]
     },
     "execution_count": 20,
     "metadata": {},
     "output_type": "execute_result"
    }
   ],
   "source": [
    "# balance data shows that max is significantly higher than the mean and std\n",
    "bank.balance = bank.balance.astype(float)\n",
    "bank.balance.describe()"
   ]
  },
  {
   "cell_type": "code",
   "execution_count": 21,
   "metadata": {},
   "outputs": [
    {
     "data": {
      "image/png": "[encoded data removed]",
      "text/plain": [
       "<Figure size 970.25x432 with 1 Axes>"
      ]
     },
     "metadata": {
      "needs_background": "light"
     },
     "output_type": "display_data"
    }
   ],
   "source": [
    "# comparing balance to education and occupation\n",
    "sns.catplot(x='education', y='balance', hue='job', palette='Set2', kind='boxen', height=6, aspect=2, data=bank)\n",
    "plt.show()"
   ]
  },
  {
   "cell_type": "markdown",
   "metadata": {},
   "source": [
    "The data is easily explained by revealing the extremely high balances being attributed to individuals with tertiary education and in likely high level management roles. The balance column will, therefore, remain unchanged."
   ]
  },
  {
   "cell_type": "code",
   "execution_count": 22,
   "metadata": {},
   "outputs": [
    {
     "data": {
      "text/html": [
       "<div>\n",
       "<style scoped>\n",
       "    .dataframe tbody tr th:only-of-type {\n",
       "        vertical-align: middle;\n",
       "    }\n",
       "\n",
       "    .dataframe tbody tr th {\n",
       "        vertical-align: top;\n",
       "    }\n",
       "\n",
       "    .dataframe thead th {\n",
       "        text-align: right;\n",
       "    }\n",
       "</style>\n",
       "<table border=\"1\" class=\"dataframe\">\n",
       "  <thead>\n",
       "    <tr style=\"text-align: right;\">\n",
       "      <th></th>\n",
       "      <th>Age</th>\n",
       "      <th>Job</th>\n",
       "      <th>Marital</th>\n",
       "      <th>Education</th>\n",
       "      <th>Default</th>\n",
       "      <th>Balance</th>\n",
       "      <th>Housing</th>\n",
       "      <th>Loan</th>\n",
       "      <th>Duration</th>\n",
       "      <th>Campaign</th>\n",
       "      <th>Pdays</th>\n",
       "      <th>Previous</th>\n",
       "      <th>Poutcome</th>\n",
       "      <th>Term deposit</th>\n",
       "      <th>Contact date</th>\n",
       "    </tr>\n",
       "  </thead>\n",
       "  <tbody>\n",
       "    <tr>\n",
       "      <th>0</th>\n",
       "      <td>58</td>\n",
       "      <td>management</td>\n",
       "      <td>married</td>\n",
       "      <td>tertiary</td>\n",
       "      <td>no</td>\n",
       "      <td>2143.0</td>\n",
       "      <td>yes</td>\n",
       "      <td>no</td>\n",
       "      <td>261</td>\n",
       "      <td>1</td>\n",
       "      <td>-1</td>\n",
       "      <td>0</td>\n",
       "      <td>other</td>\n",
       "      <td>no</td>\n",
       "      <td>May 05</td>\n",
       "    </tr>\n",
       "    <tr>\n",
       "      <th>1</th>\n",
       "      <td>44</td>\n",
       "      <td>technician</td>\n",
       "      <td>single</td>\n",
       "      <td>secondary</td>\n",
       "      <td>no</td>\n",
       "      <td>29.0</td>\n",
       "      <td>yes</td>\n",
       "      <td>no</td>\n",
       "      <td>151</td>\n",
       "      <td>1</td>\n",
       "      <td>-1</td>\n",
       "      <td>0</td>\n",
       "      <td>other</td>\n",
       "      <td>no</td>\n",
       "      <td>May 05</td>\n",
       "    </tr>\n",
       "    <tr>\n",
       "      <th>2</th>\n",
       "      <td>33</td>\n",
       "      <td>entrepreneur</td>\n",
       "      <td>married</td>\n",
       "      <td>secondary</td>\n",
       "      <td>no</td>\n",
       "      <td>2.0</td>\n",
       "      <td>yes</td>\n",
       "      <td>yes</td>\n",
       "      <td>76</td>\n",
       "      <td>1</td>\n",
       "      <td>-1</td>\n",
       "      <td>0</td>\n",
       "      <td>other</td>\n",
       "      <td>no</td>\n",
       "      <td>May 05</td>\n",
       "    </tr>\n",
       "    <tr>\n",
       "      <th>3</th>\n",
       "      <td>47</td>\n",
       "      <td>blue-collar</td>\n",
       "      <td>married</td>\n",
       "      <td>secondary</td>\n",
       "      <td>no</td>\n",
       "      <td>1506.0</td>\n",
       "      <td>yes</td>\n",
       "      <td>no</td>\n",
       "      <td>92</td>\n",
       "      <td>1</td>\n",
       "      <td>-1</td>\n",
       "      <td>0</td>\n",
       "      <td>other</td>\n",
       "      <td>no</td>\n",
       "      <td>May 05</td>\n",
       "    </tr>\n",
       "    <tr>\n",
       "      <th>4</th>\n",
       "      <td>33</td>\n",
       "      <td>unemployed</td>\n",
       "      <td>single</td>\n",
       "      <td>secondary</td>\n",
       "      <td>no</td>\n",
       "      <td>1.0</td>\n",
       "      <td>no</td>\n",
       "      <td>no</td>\n",
       "      <td>198</td>\n",
       "      <td>1</td>\n",
       "      <td>-1</td>\n",
       "      <td>0</td>\n",
       "      <td>other</td>\n",
       "      <td>no</td>\n",
       "      <td>May 05</td>\n",
       "    </tr>\n",
       "    <tr>\n",
       "      <th>5</th>\n",
       "      <td>35</td>\n",
       "      <td>management</td>\n",
       "      <td>married</td>\n",
       "      <td>tertiary</td>\n",
       "      <td>no</td>\n",
       "      <td>231.0</td>\n",
       "      <td>yes</td>\n",
       "      <td>no</td>\n",
       "      <td>139</td>\n",
       "      <td>1</td>\n",
       "      <td>-1</td>\n",
       "      <td>0</td>\n",
       "      <td>other</td>\n",
       "      <td>no</td>\n",
       "      <td>May 05</td>\n",
       "    </tr>\n",
       "    <tr>\n",
       "      <th>6</th>\n",
       "      <td>28</td>\n",
       "      <td>management</td>\n",
       "      <td>single</td>\n",
       "      <td>tertiary</td>\n",
       "      <td>no</td>\n",
       "      <td>447.0</td>\n",
       "      <td>yes</td>\n",
       "      <td>yes</td>\n",
       "      <td>217</td>\n",
       "      <td>1</td>\n",
       "      <td>-1</td>\n",
       "      <td>0</td>\n",
       "      <td>other</td>\n",
       "      <td>no</td>\n",
       "      <td>May 05</td>\n",
       "    </tr>\n",
       "    <tr>\n",
       "      <th>7</th>\n",
       "      <td>42</td>\n",
       "      <td>entrepreneur</td>\n",
       "      <td>divorced</td>\n",
       "      <td>tertiary</td>\n",
       "      <td>yes</td>\n",
       "      <td>2.0</td>\n",
       "      <td>yes</td>\n",
       "      <td>no</td>\n",
       "      <td>380</td>\n",
       "      <td>1</td>\n",
       "      <td>-1</td>\n",
       "      <td>0</td>\n",
       "      <td>other</td>\n",
       "      <td>no</td>\n",
       "      <td>May 05</td>\n",
       "    </tr>\n",
       "    <tr>\n",
       "      <th>8</th>\n",
       "      <td>58</td>\n",
       "      <td>retired</td>\n",
       "      <td>married</td>\n",
       "      <td>primary</td>\n",
       "      <td>no</td>\n",
       "      <td>121.0</td>\n",
       "      <td>yes</td>\n",
       "      <td>no</td>\n",
       "      <td>50</td>\n",
       "      <td>1</td>\n",
       "      <td>-1</td>\n",
       "      <td>0</td>\n",
       "      <td>other</td>\n",
       "      <td>no</td>\n",
       "      <td>May 05</td>\n",
       "    </tr>\n",
       "    <tr>\n",
       "      <th>9</th>\n",
       "      <td>43</td>\n",
       "      <td>technician</td>\n",
       "      <td>single</td>\n",
       "      <td>secondary</td>\n",
       "      <td>no</td>\n",
       "      <td>593.0</td>\n",
       "      <td>yes</td>\n",
       "      <td>no</td>\n",
       "      <td>55</td>\n",
       "      <td>1</td>\n",
       "      <td>-1</td>\n",
       "      <td>0</td>\n",
       "      <td>other</td>\n",
       "      <td>no</td>\n",
       "      <td>May 05</td>\n",
       "    </tr>\n",
       "  </tbody>\n",
       "</table>\n",
       "</div>"
      ],
      "text/plain": [
       "  Age           Job   Marital  Education Default  Balance Housing Loan  \\\n",
       "0  58    management   married   tertiary      no   2143.0     yes   no   \n",
       "1  44    technician    single  secondary      no     29.0     yes   no   \n",
       "2  33  entrepreneur   married  secondary      no      2.0     yes  yes   \n",
       "3  47   blue-collar   married  secondary      no   1506.0     yes   no   \n",
       "4  33    unemployed    single  secondary      no      1.0      no   no   \n",
       "5  35    management   married   tertiary      no    231.0     yes   no   \n",
       "6  28    management    single   tertiary      no    447.0     yes  yes   \n",
       "7  42  entrepreneur  divorced   tertiary     yes      2.0     yes   no   \n",
       "8  58       retired   married    primary      no    121.0     yes   no   \n",
       "9  43    technician    single  secondary      no    593.0     yes   no   \n",
       "\n",
       "  Duration Campaign Pdays Previous Poutcome Term deposit Contact date  \n",
       "0      261        1    -1        0    other           no       May 05  \n",
       "1      151        1    -1        0    other           no       May 05  \n",
       "2       76        1    -1        0    other           no       May 05  \n",
       "3       92        1    -1        0    other           no       May 05  \n",
       "4      198        1    -1        0    other           no       May 05  \n",
       "5      139        1    -1        0    other           no       May 05  \n",
       "6      217        1    -1        0    other           no       May 05  \n",
       "7      380        1    -1        0    other           no       May 05  \n",
       "8       50        1    -1        0    other           no       May 05  \n",
       "9       55        1    -1        0    other           no       May 05  "
      ]
     },
     "execution_count": 22,
     "metadata": {},
     "output_type": "execute_result"
    }
   ],
   "source": [
    "# preview resulting dataframe\n",
    "bank.columns = bank.columns.str.capitalize().str.replace('_', ' ')\n",
    "bank.head(10)"
   ]
  },
  {
   "cell_type": "code",
   "execution_count": 23,
   "metadata": {},
   "outputs": [],
   "source": [
    "# exporting to csv\n",
    "bank.to_csv('bank.csv', index=False, encoding='utf-8')"
   ]
  },
  {
   "cell_type": "markdown",
   "metadata": {},
   "source": [
    "   <a id='ref'></a>\n",
    "   \n",
    "   ## Bank client data:\n",
    "   Input variables:\n",
    "   1 - age (numeric)\n",
    "   \n",
    "   2 - job : type of job (categorical: \"admin.\",\"unknown\",\"unemployed\",\"management\",\"housemaid\",\"entrepreneur\",\"student\",\n",
    "                                       \"blue-collar\",\"self-employed\",\"retired\",\"technician\",\"services\") \n",
    "                                       \n",
    "   3 - marital : marital status (categorical: \"married\",\"divorced\",\"single\"; note: \"divorced\" means divorced or widowed)\n",
    "   \n",
    "   4 - education (categorical: \"unknown\",\"secondary\",\"primary\",\"tertiary\")\n",
    "   \n",
    "   5 - default: has credit in default? (binary: \"yes\",\"no\")\n",
    "   \n",
    "   6 - balance: average yearly balance, in euros (numeric) \n",
    "   \n",
    "   7 - housing: has housing loan? (binary: \"yes\",\"no\")\n",
    "   \n",
    "   8 - loan: has personal loan? (binary: \"yes\",\"no\")\n",
    "   \n",
    "   9 - contact: contact communication type (categorical: \"unknown\",\"telephone\",\"cellular\") \n",
    "   \n",
    "  10 - day: last contact day of the month (numeric)\n",
    "  \n",
    "  11 - month: last contact month of year (categorical: \"jan\", \"feb\", \"mar\", ..., \"nov\", \"dec\")\n",
    "  \n",
    "  12 - duration: last contact duration, in seconds (numeric)\n",
    "  \n",
    "  other attributes:\n",
    "  13 - campaign: number of contacts performed during this campaign and for this client (numeric, includes last contact)\n",
    "  \n",
    "  14 - pdays: number of days that passed by after the client was last contacted from a previous campaign (numeric, -1 means client was not previously contacted)\n",
    "  \n",
    "  15 - previous: number of contacts performed before this campaign and for this client (numeric)\n",
    "  \n",
    "  16 - poutcome: outcome of the previous marketing campaign (categorical: \"unknown\",\"other\",\"failure\",\"success\")\n",
    "\n",
    "  Output variable (desired target):\n",
    "  17 - y - has the client subscribed a term deposit? (binary: \"yes\",\"no\")\n",
    "  \n",
    "  [Top](#top)"
   ]
  }
 ],
 "metadata": {
  "kernelspec": {
   "display_name": "Python 3",
   "language": "python",
   "name": "python3"
  },
  "language_info": {
   "codemirror_mode": {
    "name": "ipython",
    "version": 3
   },
   "file_extension": ".py",
   "mimetype": "text/x-python",
   "name": "python",
   "nbconvert_exporter": "python",
   "pygments_lexer": "ipython3",
   "version": "3.8.3"
  }
 },
 "nbformat": 4,
 "nbformat_minor": 4
}
